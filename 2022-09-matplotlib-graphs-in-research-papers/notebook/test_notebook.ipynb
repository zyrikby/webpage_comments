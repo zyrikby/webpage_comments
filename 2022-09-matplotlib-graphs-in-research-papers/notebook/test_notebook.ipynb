{
 "cells": [
  {
   "cell_type": "markdown",
   "metadata": {},
   "source": [
    "# Some Plotting Tricks"
   ]
  },
  {
   "cell_type": "markdown",
   "metadata": {},
   "source": [
    "## Paths\n",
    "\n",
    "When you perform data analysis in the notebook, at first, it is important to define all necessary paths. I use two dictionaries to define them:\n",
    "- **IN_PATHS** - all the paths where the input notebook data are stored\n",
    "- **OUT_PATHS** - the paths where the results are stored\n",
    "\n",
    "A key in the dictionary may have the `_dir` suffix. If a key in the dictionary has the `_dir` suffix, I know that the corresponding path should be treated as the path to a directory "
   ]
  },
  {
   "cell_type": "code",
   "execution_count": null,
   "metadata": {},
   "outputs": [],
   "source": [
    "IN_PATHS = {\n",
    "    'timeseries_file' : './input_data/timeseries.csv',\n",
    "    'input_dir' : './input_data/',\n",
    "}\n",
    "\n",
    "OUT_PATHS = {\n",
    "    'results_dir' : './results/csvs/',\n",
    "    'figs_dir' : '../paper/figures/',\n",
    "}"
   ]
  },
  {
   "cell_type": "markdown",
   "metadata": {},
   "source": [
    "I have an auxiliary function that checks all the paths. For each `in_paths` path, it checks if the corresponding path exists and warns a user if it does not. For each path `out_paths` path, the function creates recursively all intermediate directories. Thus, when I save data, the corresponding functions do not complain that the path is not found. "
   ]
  },
  {
   "cell_type": "code",
   "execution_count": null,
   "metadata": {},
   "outputs": [],
   "source": [
    "def check_paths(in_paths, out_paths):\n",
    "    import os, shutil, itertools\n",
    "\n",
    "    for pth_key in in_paths:\n",
    "        pth = in_paths[pth_key]\n",
    "        if not os.path.exists(pth):\n",
    "            print(f'Path [{pth}] does not exist')\n",
    "        if pth_key.endswith('_dir') and (not os.path.isdir(pth)):\n",
    "            print(f'Path [{pth}] does not correspond to a directory!')\n",
    "\n",
    "    for pth_key in out_paths:\n",
    "        pth = out_paths[pth_key]\n",
    "        if pth_key.endswith('_dir'):\n",
    "            abs_path = os.path.abspath(pth)\n",
    "        else:\n",
    "            abs_path = os.path.abspath(os.path.dirname(pth))\n",
    "        if not os.path.exists(abs_path):\n",
    "            print(f'Creating path: [{abs_path}]')\n",
    "            os.makedirs(abs_path)\n",
    "\n",
    "check_paths(IN_PATHS, OUT_PATHS)"
   ]
  },
  {
   "cell_type": "markdown",
   "metadata": {},
   "source": [
    "### Preprocessing and Loading Data"
   ]
  },
  {
   "cell_type": "code",
   "execution_count": null,
   "metadata": {},
   "outputs": [],
   "source": [
    "# imports\n",
    "import os\n",
    "import pandas as pd"
   ]
  },
  {
   "cell_type": "code",
   "execution_count": null,
   "metadata": {},
   "outputs": [],
   "source": [
    "# loading data\n",
    "# got the data file from https://github.com/plotly/datasets/blob/master/timeseries.csv\n",
    "ts_df = pd.read_csv(IN_PATHS['timeseries_file'])\n",
    "ts_df['Date'] = pd.to_datetime(ts_df.Date)\n",
    "#ts_df.info()"
   ]
  },
  {
   "cell_type": "markdown",
   "metadata": {},
   "source": [
    "## Illustrative Example"
   ]
  },
  {
   "cell_type": "code",
   "execution_count": null,
   "metadata": {},
   "outputs": [],
   "source": [
    "# importing matplotlib functions\n",
    "import matplotlib\n",
    "import matplotlib.pyplot as plt\n",
    "from matplotlib.pyplot import subplots"
   ]
  },
  {
   "cell_type": "code",
   "execution_count": null,
   "metadata": {},
   "outputs": [],
   "source": [
    "# I use 'Roboto' font family\n",
    "# matplotlib.rcParams['font.family'] = ['Roboto', 'sans-serif']"
   ]
  },
  {
   "cell_type": "markdown",
   "metadata": {},
   "source": [
    "We use the following code to plot our data loaded into a pandas dataframe. On the `x` axis, I plot the time, while on the `y` axis I plot the values of the time series."
   ]
  },
  {
   "cell_type": "code",
   "execution_count": null,
   "metadata": {},
   "outputs": [],
   "source": [
    "fig, ax = plt.subplots()\n",
    "for indx, column_name in enumerate(['A', 'B', 'C', 'D', 'E', 'F', 'G']):\n",
    "    ax.plot(ts_df['Date'], ts_df[column_name], label=column_name)\n",
    "ax.tick_params(axis='x', labelrotation = 90)\n",
    "ax.set(xlabel='Date', ylabel='Value')\n",
    "ax.legend(loc='center right', ncol=4)\n",
    "\n",
    "fig.show()"
   ]
  },
  {
   "cell_type": "code",
   "execution_count": null,
   "metadata": {},
   "outputs": [],
   "source": [
    "fig.savefig(\n",
    "    os.path.join(OUT_PATHS['figs_dir'], '1.pdf'),\n",
    ")"
   ]
  },
  {
   "cell_type": "markdown",
   "metadata": {},
   "source": [
    "## Improvements"
   ]
  },
  {
   "cell_type": "markdown",
   "metadata": {},
   "source": [
    "### Tighttening Bounding Boxes"
   ]
  },
  {
   "cell_type": "markdown",
   "metadata": {},
   "source": [
    "**bbox_inches**: str or Bbox, default: rcParams[\"savefig.bbox\"] (default: None)\n",
    "\n",
    "Bounding box in inches: only the given portion of the figure is saved. If 'tight', try to figure out the tight bbox of the figure."
   ]
  },
  {
   "cell_type": "code",
   "execution_count": null,
   "metadata": {},
   "outputs": [],
   "source": [
    "fig.savefig(\n",
    "    os.path.join(OUT_PATHS['figs_dir'], '2.pdf'),\n",
    "    bbox_inches='tight',\n",
    ")"
   ]
  },
  {
   "cell_type": "markdown",
   "metadata": {},
   "source": [
    "### Figure Style"
   ]
  },
  {
   "cell_type": "markdown",
   "metadata": {},
   "source": [
    "Matplotlib has a number of embedded styles. They are listed in the `plt.style.available` property. "
   ]
  },
  {
   "cell_type": "code",
   "execution_count": null,
   "metadata": {},
   "outputs": [],
   "source": [
    "import math\n",
    "\n",
    "available_styles = plt.style.available\n",
    "n_styles = len(available_styles)\n",
    "\n",
    "fig = plt.figure(dpi=100, figsize=(12.8, 4*n_styles/2), tight_layout=True)\n",
    "for i, style in enumerate(available_styles):\n",
    "    with plt.style.context(style):\n",
    "        ax = fig.add_subplot(math.ceil(n_styles/2.0), 2, i+1)\n",
    "        for indx, column_name in enumerate(['A', 'B', 'C', 'D', 'E', 'F', 'G']):\n",
    "            ax.plot(ts_df['Date'], ts_df[column_name], label=column_name)\n",
    "        ax.tick_params(axis='x', labelrotation = 90)\n",
    "        ax.set(xlabel='Date', ylabel='Value')\n",
    "        ax.legend(loc='center right', ncol=4)\n",
    "        ax.set_title(style)\n",
    "fig.show()"
   ]
  },
  {
   "cell_type": "markdown",
   "metadata": {},
   "source": [
    "From this list of styles, I think the following are good to be used in scientific papers:"
   ]
  },
  {
   "cell_type": "code",
   "execution_count": null,
   "metadata": {},
   "outputs": [],
   "source": [
    "for i, style in enumerate([\n",
    "    'seaborn-paper',\n",
    "    'seaborn-talk',\n",
    "    'seaborn-notebook',\n",
    "    'seaborn-colorblind',\n",
    "    'tableau-colorblind10',\n",
    "]):\n",
    "    with plt.style.context(style):\n",
    "        fig, ax = plt.subplots()\n",
    "        for indx, column_name in enumerate(['A', 'B', 'C', 'D', 'E', 'F', 'G']):\n",
    "            ax.plot(ts_df['Date'], ts_df[column_name], label=column_name)\n",
    "        ax.set_title(style)\n",
    "        ax.tick_params(axis='x', labelrotation = 90)\n",
    "        ax.set(xlabel='Date', ylabel='Value')\n",
    "        ax.legend(loc='center right', ncol=4)\n",
    "\n",
    "        fig.savefig(\n",
    "            os.path.join(OUT_PATHS['figs_dir'], '{}.pdf'.format(i+3)),\n",
    "            bbox_inches='tight',\n",
    "        )"
   ]
  },
  {
   "cell_type": "code",
   "execution_count": null,
   "metadata": {},
   "outputs": [],
   "source": [
    "with plt.style.context(['seaborn-colorblind', 'seaborn-talk']):\n",
    "    fig, ax = plt.subplots()\n",
    "    for indx, column_name in enumerate(['A', 'B', 'C', 'D', 'E', 'F', 'G']):\n",
    "        ax.plot(ts_df['Date'], ts_df[column_name], label=column_name)\n",
    "    ax.set_title('Colors Combined')\n",
    "    ax.tick_params(axis='x', labelrotation = 90)\n",
    "    ax.set(xlabel='Date', ylabel='Value')\n",
    "    ax.legend(loc='center right', ncol=4)\n",
    "\n",
    "    fig.savefig(\n",
    "        os.path.join(OUT_PATHS['figs_dir'], '8.pdf'),\n",
    "        bbox_inches='tight',\n",
    "    )"
   ]
  },
  {
   "cell_type": "markdown",
   "metadata": {},
   "source": [
    "Additionally, matplotlib provides an xkcd sketch mode context. It could be interesting to use this one in informal talks."
   ]
  },
  {
   "cell_type": "code",
   "execution_count": null,
   "metadata": {},
   "outputs": [],
   "source": [
    "with plt.xkcd():\n",
    "    fig, ax = plt.subplots()\n",
    "    for indx, column_name in enumerate(['A', 'B', 'C', 'D', 'E', 'F', 'G']):\n",
    "        ax.plot(ts_df['Date'], ts_df[column_name], label=column_name)\n",
    "    ax.set_title('xkcd')\n",
    "    ax.tick_params(axis='x', labelrotation = 90)\n",
    "    ax.set(xlabel='Date', ylabel='Value')\n",
    "    ax.legend(loc='center right', ncol=4)\n",
    "    fig.savefig(\n",
    "        os.path.join(OUT_PATHS['figs_dir'], '9.pdf'),\n",
    "        bbox_inches='tight',\n",
    "    )"
   ]
  },
  {
   "cell_type": "markdown",
   "metadata": {},
   "source": [
    "In order to set style for the whole notebook, use one of the following functions in the beginning of the notebook:\n",
    "\n",
    "```python\n",
    "# for papers\n",
    "plt.style.use('seaborn-paper')\n",
    "# for presentations\n",
    "plt.style.use('seaborn-talk')\n",
    "# for papers with colors distinguishable by colorblind people\n",
    "plt.style.use('seaborn-colorblind') \n",
    "# HACK: for presentations with colors distinguishable by colorblind people\n",
    "plt.style.use(['seaborn-colorblind', 'seaborn-talk'])\n",
    "# to apply the xkcd style to all the graphs \n",
    "plt.xkcd()\n",
    "```"
   ]
  },
  {
   "cell_type": "markdown",
   "metadata": {},
   "source": [
    "### Patterns"
   ]
  },
  {
   "cell_type": "code",
   "execution_count": null,
   "metadata": {},
   "outputs": [],
   "source": [
    "from cycler import cycler"
   ]
  },
  {
   "cell_type": "code",
   "execution_count": null,
   "metadata": {},
   "outputs": [],
   "source": [
    "custom_marker_cycler = (cycler(marker=['o', 'x', 's', 'P']))\n",
    "\n",
    "\n",
    "fig, ax = plt.subplots()\n",
    "\n",
    "ax.set_prop_cycle(custom_marker_cycler) # setting the cycler for the current figure \n",
    "\n",
    "for indx, column_name in enumerate(['A', 'B', 'C', 'D', 'E', 'F', 'G']):\n",
    "    ax.plot(ts_df['Date'], ts_df[column_name], label=column_name)\n",
    "ax.tick_params(axis='x', labelrotation = 90)\n",
    "ax.set(xlabel='Date', ylabel='Value')\n",
    "ax.legend(loc='center right', ncol=4)\n",
    "\n",
    "fig.savefig(\n",
    "    os.path.join(OUT_PATHS['figs_dir'], '10.pdf'),\n",
    "    bbox_inches='tight',\n",
    ")"
   ]
  },
  {
   "cell_type": "code",
   "execution_count": null,
   "metadata": {},
   "outputs": [],
   "source": [
    "custom_ls_cycler = (cycler(ls=['-', '--', ':', '-.']))\n",
    "\n",
    "\n",
    "fig, ax = plt.subplots()\n",
    "\n",
    "ax.set_prop_cycle(custom_ls_cycler) # setting the cycler for the current figure \n",
    "\n",
    "for indx, column_name in enumerate(['A', 'B', 'C', 'D', 'E', 'F', 'G']):\n",
    "    ax.plot(ts_df['Date'], ts_df[column_name], label=column_name)\n",
    "ax.tick_params(axis='x', labelrotation = 90)\n",
    "ax.set(xlabel='Date', ylabel='Value')\n",
    "ax.legend(loc='center right', ncol=4)\n",
    "\n",
    "fig.savefig(\n",
    "    os.path.join(OUT_PATHS['figs_dir'], '11.pdf'),\n",
    "    bbox_inches='tight',\n",
    ")"
   ]
  },
  {
   "cell_type": "code",
   "execution_count": null,
   "metadata": {},
   "outputs": [],
   "source": [
    "# check the styles of a custom cycler\n",
    "for c in custom_marker_cycler:\n",
    "    print(c)"
   ]
  },
  {
   "cell_type": "code",
   "execution_count": null,
   "metadata": {},
   "outputs": [],
   "source": [
    "# adding cyclers\n",
    "# lenghts of the cyclers should be equal, here equal to 4\n",
    "print('Adding cyclers')\n",
    "custom_cycler = (\n",
    "    cycler(marker=['o', 'x', 's', 'P']) +\n",
    "    cycler(ls=['-', '--', ':', '-.'])\n",
    ")\n",
    "\n",
    "for c in custom_cycler:\n",
    "    print(c)"
   ]
  },
  {
   "cell_type": "code",
   "execution_count": null,
   "metadata": {},
   "outputs": [],
   "source": [
    "fig, ax = plt.subplots()\n",
    "\n",
    "ax.set_prop_cycle(custom_cycler) # setting the cycler for the current figure \n",
    "\n",
    "for indx, column_name in enumerate(['A', 'B', 'C', 'D', 'E', 'F', 'G']):\n",
    "    ax.plot(ts_df['Date'], ts_df[column_name], label=column_name)\n",
    "ax.tick_params(axis='x', labelrotation = 90)\n",
    "ax.set(xlabel='Date', ylabel='Value')\n",
    "ax.legend(loc='center right', ncol=4)\n",
    "\n",
    "fig.savefig(\n",
    "    os.path.join(OUT_PATHS['figs_dir'], '12.pdf'),\n",
    "    bbox_inches='tight',\n",
    ")"
   ]
  },
  {
   "cell_type": "code",
   "execution_count": null,
   "metadata": {},
   "outputs": [],
   "source": [
    "# multiplying cyclers\n",
    "# lenghts of the cyclers can be different\n",
    "print('Multiplying cyclers')\n",
    "custom_cycler = (\n",
    "    cycler(marker=['o', 'x', 's', 'P']) *\n",
    "    cycler(ls=['-', '--', ':'])\n",
    ")\n",
    "\n",
    "for c in custom_cycler:\n",
    "    print(c)"
   ]
  },
  {
   "cell_type": "code",
   "execution_count": null,
   "metadata": {},
   "outputs": [],
   "source": [
    "fig, ax = plt.subplots()\n",
    "\n",
    "ax.set_prop_cycle(custom_cycler) # setting the cycler for the current figure \n",
    "\n",
    "for indx, column_name in enumerate(['A', 'B', 'C', 'D', 'E', 'F', 'G']):\n",
    "    ax.plot(ts_df['Date'], ts_df[column_name], label=column_name)\n",
    "ax.tick_params(axis='x', labelrotation = 90)\n",
    "ax.set(xlabel='Date', ylabel='Value')\n",
    "ax.legend(loc='center right', ncol=4)\n",
    "\n",
    "fig.savefig(\n",
    "    os.path.join(OUT_PATHS['figs_dir'], '13.pdf'),\n",
    "    bbox_inches='tight',\n",
    ")"
   ]
  },
  {
   "cell_type": "code",
   "execution_count": null,
   "metadata": {},
   "outputs": [],
   "source": [
    "custom_color_cycler = (cycler(color='rgbk'))\n",
    "\n",
    "for c in custom_color_cycler:\n",
    "    print(c)"
   ]
  },
  {
   "cell_type": "code",
   "execution_count": null,
   "metadata": {},
   "outputs": [],
   "source": [
    "fig, ax = plt.subplots()\n",
    "\n",
    "ax.set_prop_cycle(custom_color_cycler) # setting the cycler for the current figure \n",
    "\n",
    "for indx, column_name in enumerate(['A', 'B', 'C', 'D', 'E', 'F', 'G']):\n",
    "    ax.plot(ts_df['Date'], ts_df[column_name], label=column_name)\n",
    "ax.tick_params(axis='x', labelrotation = 90)\n",
    "ax.set(xlabel='Date', ylabel='Value')\n",
    "ax.legend(loc='center right', ncol=4)\n",
    "\n",
    "fig.savefig(\n",
    "    os.path.join(OUT_PATHS['figs_dir'], '14.pdf'),\n",
    "    bbox_inches='tight',\n",
    ")"
   ]
  },
  {
   "cell_type": "code",
   "execution_count": null,
   "metadata": {},
   "outputs": [],
   "source": [
    "# all colors can be extracted from the current style\n",
    "custom_cycler = (cycler(ls=['-', '--', ':', '-.']) * cycler(color=plt.rcParams['axes.prop_cycle'].by_key()['color']))\n",
    "\n",
    "fig, ax = plt.subplots()\n",
    "\n",
    "ax.set_prop_cycle(custom_cycler)\n",
    "\n",
    "for indx, column_name in enumerate(['A', 'B', 'C', 'D', 'E', 'F', 'G']):\n",
    "    ax.plot(ts_df['Date'], ts_df[column_name], label=column_name)\n",
    "ax.tick_params(axis='x', labelrotation = 90)\n",
    "ax.set(xlabel='Date', ylabel='Value')\n",
    "ax.legend(loc='center right', ncol=4)\n",
    "\n",
    "fig.savefig(\n",
    "    os.path.join(OUT_PATHS['figs_dir'], '15.pdf'),\n",
    "    bbox_inches='tight',\n",
    ")"
   ]
  },
  {
   "cell_type": "code",
   "execution_count": null,
   "metadata": {},
   "outputs": [],
   "source": [
    "# black and white cycler\n",
    "black_n_white_cycler = (\n",
    "    cycler(color=['black']) *\n",
    "    cycler(ls=['-', '--', ':', '-.']) *\n",
    "    cycler(marker=['o', 'x', 's', 'P'])\n",
    ")\n",
    "\n",
    "fig, ax = plt.subplots()\n",
    "\n",
    "ax.set_prop_cycle(black_n_white_cycler)\n",
    "\n",
    "for indx, column_name in enumerate(['A', 'B', 'C', 'D', 'E', 'F', 'G']):\n",
    "    ax.plot(ts_df['Date'], ts_df[column_name], label=column_name)\n",
    "ax.tick_params(axis='x', labelrotation = 90)\n",
    "ax.set(xlabel='Date', ylabel='Value')\n",
    "ax.legend(loc='center right', ncol=4)\n",
    "\n",
    "fig.savefig(\n",
    "    os.path.join(OUT_PATHS['figs_dir'], '16.pdf'),\n",
    "    bbox_inches='tight',\n",
    ")"
   ]
  },
  {
   "cell_type": "markdown",
   "metadata": {},
   "source": [
    "### Figure Size"
   ]
  },
  {
   "cell_type": "markdown",
   "metadata": {},
   "source": [
    "#### Width"
   ]
  },
  {
   "cell_type": "markdown",
   "metadata": {},
   "source": [
    "**figsize(float, float)**, default: rcParams[\"figure.figsize\"] (default: [6.4, 4.8])\n",
    "\n",
    "Width, height in inches."
   ]
  },
  {
   "cell_type": "markdown",
   "metadata": {},
   "source": [
    "Let's play with different figure sizes still preserving the ratio between width and height (4:3)"
   ]
  },
  {
   "cell_type": "code",
   "execution_count": null,
   "metadata": {},
   "outputs": [],
   "source": [
    "# 4 inch by 3 inch\n",
    "fig, ax = plt.subplots(figsize=(4, 3))\n",
    "for indx, column_name in enumerate(['A', 'B', 'C', 'D', 'E', 'F', 'G']):\n",
    "    ax.plot(ts_df['Date'], ts_df[column_name], label=column_name)\n",
    "ax.tick_params(axis='x', labelrotation = 90)\n",
    "ax.set(xlabel='Date', ylabel='Value')\n",
    "ax.legend(loc='center right', ncol=4)\n",
    "\n",
    "fig.show()\n",
    "fig.savefig(\n",
    "    os.path.join(OUT_PATHS['figs_dir'], '17.pdf'),\n",
    "    bbox_inches='tight',\n",
    ")"
   ]
  },
  {
   "cell_type": "code",
   "execution_count": null,
   "metadata": {},
   "outputs": [],
   "source": [
    "# default\n",
    "fig, ax = plt.subplots()\n",
    "for indx, column_name in enumerate(['A', 'B', 'C', 'D', 'E', 'F', 'G']):\n",
    "    ax.plot(ts_df['Date'], ts_df[column_name], label=column_name)\n",
    "ax.tick_params(axis='x', labelrotation = 90)\n",
    "ax.set(xlabel='Date', ylabel='Value')\n",
    "ax.legend(loc='center right', ncol=4)\n",
    "\n",
    "fig.show()\n",
    "fig.savefig(\n",
    "    os.path.join(OUT_PATHS['figs_dir'], '18.pdf'),\n",
    "    bbox_inches='tight',\n",
    ")"
   ]
  },
  {
   "cell_type": "code",
   "execution_count": null,
   "metadata": {},
   "outputs": [],
   "source": [
    "fig, ax = plt.subplots(figsize=(16, 12))\n",
    "for indx, column_name in enumerate(['A', 'B', 'C', 'D', 'E', 'F', 'G']):\n",
    "    ax.plot(ts_df['Date'], ts_df[column_name], label=column_name)\n",
    "ax.tick_params(axis='x', labelrotation = 90)\n",
    "ax.set(xlabel='Date', ylabel='Value')\n",
    "ax.legend(loc='center right', ncol=4)\n",
    "\n",
    "fig.show()\n",
    "fig.savefig(\n",
    "    os.path.join(OUT_PATHS['figs_dir'], '19.pdf'),\n",
    "    bbox_inches='tight',\n",
    ")"
   ]
  },
  {
   "cell_type": "markdown",
   "metadata": {},
   "source": [
    "The standard size of an A4 page is 8.25x11.75 inches. Usually, scientific papers have a two column format, therefore, the width of 1 column is roughly 4 inch. However, as you can see in the paper, the 4-inch width does not look good. The reason behind this is that matplotlib use bigger font sizes.\n",
    "\n",
    "Personally, I often use either 6 or 6.4 inches.  "
   ]
  },
  {
   "cell_type": "code",
   "execution_count": null,
   "metadata": {},
   "outputs": [],
   "source": [
    "fig, ax = plt.subplots(figsize=(6, 4.5))\n",
    "for indx, column_name in enumerate(['A', 'B', 'C', 'D', 'E', 'F', 'G']):\n",
    "    ax.plot(ts_df['Date'], ts_df[column_name], label=column_name)\n",
    "ax.tick_params(axis='x', labelrotation = 90)\n",
    "ax.set(xlabel='Date', ylabel='Value')\n",
    "ax.legend(loc='center right', ncol=4)\n",
    "\n",
    "fig.show()\n",
    "fig.savefig(\n",
    "    os.path.join(OUT_PATHS['figs_dir'], '5.pdf'),\n",
    "    bbox_inches='tight',\n",
    ")"
   ]
  },
  {
   "cell_type": "markdown",
   "metadata": {},
   "source": [
    "#### Height"
   ]
  },
  {
   "cell_type": "markdown",
   "metadata": {},
   "source": [
    "The default width-height ratio is 4:3. This is also the default ratio for old monitors, and thus, for presentations' page setups. However, newer monitors usually have 16:9 or 16:10 ratio, and the presentations' page setup as well. Therefore, I usually adjust the height for default figures to this ratio:\n",
    "- 16:10 - (6, 3.75)\n",
    "- 16:9  - (6, 3.375)\n",
    "- 16:10 - (6.4, 4)\n",
    "- 16:9  - (6.4, 3.6)\n",
    "\n",
    "However, if you have long figures you may adjust the height according to your needs."
   ]
  },
  {
   "cell_type": "code",
   "execution_count": null,
   "metadata": {},
   "outputs": [],
   "source": [
    "fig, ax = plt.subplots(figsize=(6.4, 4))\n",
    "for indx, column_name in enumerate(['A', 'B', 'C', 'D', 'E', 'F', 'G']):\n",
    "    ax.plot(ts_df['Date'], ts_df[column_name], label=column_name)\n",
    "ax.tick_params(axis='x', labelrotation = 90)\n",
    "ax.set(xlabel='Date', ylabel='Value')\n",
    "ax.legend(loc='center right', ncol=4)\n",
    "\n",
    "fig.show()\n",
    "fig.savefig(\n",
    "    os.path.join(OUT_PATHS['figs_dir'], '20.pdf'),\n",
    "    bbox_inches='tight',\n",
    ")"
   ]
  },
  {
   "cell_type": "markdown",
   "metadata": {},
   "source": [
    "### Saving Figures"
   ]
  },
  {
   "cell_type": "code",
   "execution_count": null,
   "metadata": {},
   "outputs": [],
   "source": [
    "def save_fig(\n",
    "        fig: matplotlib.figure.Figure, \n",
    "        fig_name: str, \n",
    "        fig_dir: str, \n",
    "        fig_fmt: str,\n",
    "        fig_size: Tuple[float, float] = [6.4, 4], \n",
    "        save: bool = True, \n",
    "        dpi: int = 300,\n",
    "        transparent_png = True,\n",
    "    ):\n",
    "    \"\"\"This procedure stores the generated matplotlib figure to the specified \n",
    "    directory with the specified name and format.\n",
    "\n",
    "    Parameters\n",
    "    ----------\n",
    "    fig : [type]\n",
    "        Matplotlib figure instance\n",
    "    fig_name : str\n",
    "        File name where the figure is saved\n",
    "    fig_dir : str\n",
    "        Path to the directory where the figure is saved\n",
    "    fig_fmt : str\n",
    "        Format of the figure, the format should be supported by matplotlib \n",
    "        (additional logic only for pdf and png formats)\n",
    "    fig_size : Tuple[float, float]\n",
    "        Size of the figure in inches, by default [6.4, 4] \n",
    "    save : bool, optional\n",
    "        If the figure should be saved, by default True. Set it to False if you \n",
    "        do not want to override already produced figures.\n",
    "    dpi : int, optional\n",
    "        Dots per inch - the density for rasterized format (png), by default 300\n",
    "    transparent_png : bool, optional\n",
    "        If the background should be transparent for png, by default True\n",
    "    \"\"\"\n",
    "    if not save:\n",
    "        return\n",
    "    \n",
    "    fig.set_size_inches(fig_size, forward=False)\n",
    "    fig_fmt = fig_fmt.lower()\n",
    "    fig_dir = os.path.join(fig_dir, fig_fmt)\n",
    "    if not os.path.exists(fig_dir):\n",
    "        os.makedirs(fig_dir)\n",
    "    pth = os.path.join(\n",
    "        fig_dir,\n",
    "        '{}.{}'.format(fig_name, fig_fmt.lower())\n",
    "    )\n",
    "    if fig_fmt == 'pdf':\n",
    "        metadata={\n",
    "            'Creator' : '',\n",
    "            'Producer': '',\n",
    "            'CreationDate': None\n",
    "        }\n",
    "        fig.savefig(pth, bbox_inches='tight', metadata=metadata)\n",
    "    elif fig_fmt == 'png':\n",
    "        alpha = 0 if transparent_png else 1\n",
    "        axes = fig.get_axes()\n",
    "        fig.patch.set_alpha(alpha)\n",
    "        for ax in axes:\n",
    "            ax.patch.set_alpha(alpha)\n",
    "        fig.savefig(\n",
    "            pth, \n",
    "            bbox_inches='tight',\n",
    "            dpi=dpi,\n",
    "        )\n",
    "    else:\n",
    "        try:\n",
    "            fig.savefig(pth, bbox_inches='tight')\n",
    "        except Exception as e:\n",
    "            print(\"Cannot save figure: {}\".format(e))"
   ]
  },
  {
   "cell_type": "code",
   "execution_count": null,
   "metadata": {},
   "outputs": [],
   "source": [
    "fig, ax = plt.subplots(nrows = 2, ncols=1, figsize=[16, 12], sharex=True)\n",
    "for indx, column_name in enumerate(['A', 'B', 'C', 'D', 'E', 'F', 'G']):\n",
    "    ax[0].plot(ts_df['Date'], ts_df[column_name], label=column_name)\n",
    "for indx, column_name in enumerate(['A', 'B', 'C', 'D', 'E', 'F', 'G']):\n",
    "    ax[1].plot(ts_df['Date'], ts_df[column_name], label=column_name)\n",
    "ax[0].tick_params(axis='x', labelrotation = 90)\n",
    "ax[1].tick_params(axis='x', labelrotation = 90)\n",
    "ax[0].set(xlabel='Date', ylabel='Value')\n",
    "ax[1].set(xlabel='Date', ylabel='Value')\n",
    "ax[0].legend(loc='center right', ncol=4)\n",
    "ax[1].legend(loc='center right', ncol=4)\n",
    "\n",
    "fig.show()"
   ]
  },
  {
   "cell_type": "code",
   "execution_count": null,
   "metadata": {},
   "outputs": [],
   "source": [
    "# saving non-transparent\n",
    "save_fig(\n",
    "    fig,\n",
    "    'non_transparent',\n",
    "    OUT_PATHS['figs_dir'],\n",
    "    'png',\n",
    "    fig_size=(6.4, 8),\n",
    "    transparent_png=False,\n",
    ")\n",
    "\n",
    "# saving transparent\n",
    "save_fig(\n",
    "    fig,\n",
    "    'transparent',\n",
    "    OUT_PATHS['figs_dir'],\n",
    "    'png',\n",
    "    fig_size=(6.4, 8),\n",
    "    transparent_png=True,\n",
    ")"
   ]
  },
  {
   "cell_type": "markdown",
   "metadata": {},
   "source": [
    "But writing every time all these things is tough, therefore, I use the following trick. I define several constants:"
   ]
  },
  {
   "cell_type": "code",
   "execution_count": null,
   "metadata": {},
   "outputs": [],
   "source": [
    "FIG_SIZE = (6.4, 4)\n",
    "SAVE_FIG = True\n",
    "FIG_FMT = 'pdf'\n",
    "TRANSPARENT_PNG=True\n"
   ]
  },
  {
   "cell_type": "markdown",
   "metadata": {},
   "source": [
    "Then the `save_fig` function can be used to store figures in the following way:"
   ]
  },
  {
   "cell_type": "code",
   "execution_count": null,
   "metadata": {},
   "outputs": [],
   "source": [
    "\n",
    "save_fig(\n",
    "    fig,\n",
    "    'transparent',\n",
    "    fig_dir=OUT_PATHS['figs_dir'],\n",
    "    fig_fmt=FIG_FMT,\n",
    "    save=SAVE_FIG, \n",
    "    fig_size=FIG_SIZE,\n",
    "    transparent_png=TRANSPARENT_PNG,\n",
    ")"
   ]
  },
  {
   "cell_type": "code",
   "execution_count": null,
   "metadata": {},
   "outputs": [],
   "source": [
    "\n",
    "from functools import partial\n",
    "savefig = partial(save_fig, fig_dir=OUT_PATHS['figs_dir'], fig_fmt=FIG_FMT, fig_size=FIG_SIZE, save=SAVE_FIG, transparent_png=TRANSPARENT_PNG)\n"
   ]
  },
  {
   "cell_type": "code",
   "execution_count": null,
   "metadata": {},
   "outputs": [],
   "source": [
    "savefig(fig, fig_name='cool_figure')"
   ]
  }
 ],
 "metadata": {
  "kernelspec": {
   "display_name": "Python 3.9.5 ('.venv': poetry)",
   "language": "python",
   "name": "python3"
  },
  "language_info": {
   "codemirror_mode": {
    "name": "ipython",
    "version": 3
   },
   "file_extension": ".py",
   "mimetype": "text/x-python",
   "name": "python",
   "nbconvert_exporter": "python",
   "pygments_lexer": "ipython3",
   "version": "3.9.5"
  },
  "orig_nbformat": 4,
  "vscode": {
   "interpreter": {
    "hash": "1dd53a1391fd0339c72c1515135dbd326959f2854d815ea4929a82bfcf695264"
   }
  }
 },
 "nbformat": 4,
 "nbformat_minor": 2
}
