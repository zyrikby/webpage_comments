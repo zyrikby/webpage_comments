{
 "cells": [
  {
   "cell_type": "markdown",
   "id": "communist-married",
   "metadata": {},
   "source": [
    "# Flattening JSON data using Pandas"
   ]
  },
  {
   "cell_type": "code",
   "execution_count": 1,
   "id": "floating-glory",
   "metadata": {},
   "outputs": [],
   "source": [
    "import os\n",
    "import json\n",
    "import pandas as pd\n",
    "from IPython import display"
   ]
  },
  {
   "cell_type": "code",
   "execution_count": 2,
   "id": "liable-norwegian",
   "metadata": {},
   "outputs": [],
   "source": [
    "JSON_FILE = \"vertx_example.json\""
   ]
  },
  {
   "cell_type": "code",
   "execution_count": 3,
   "id": "marked-handle",
   "metadata": {},
   "outputs": [
    {
     "data": {
      "application/json": [
       {
        "matches": [
         {
          "album": "Elephunk",
          "artist": "Black Eyed Peas; Papa Roach",
          "segments": [
           {
            "duration": 24.9375,
            "que_offset": 0,
            "ref_offset": 18
           }
          ],
          "title": "Anxiety",
          "type": "music",
          "uid": 6475547275973858000
         },
         {
          "imdb_id": 365957,
          "segments": [
           {
            "duration": 24.9375,
            "que_offset": 0,
            "ref_offset": 3500.625
           }
          ],
          "title": "You Got Served",
          "type": "movie",
          "uid": 1566530810344932900,
          "year": 2004
         }
        ],
        "media_type": "audio",
        "source_path": "sample.mp4",
        "source_uid": 1758730481226206200,
        "status": "succeeded"
       },
       {
        "matches": [
         {
          "imdb_id": 332452,
          "segments": [
           {
            "duration": 21,
            "que_offset": 0,
            "ref_offset": 8608.5
           }
          ],
          "title": "Troy",
          "type": "movie",
          "uid": 1342729426672482800,
          "year": 2004
         }
        ],
        "media_type": "video",
        "source_path": "sample.mp4",
        "source_uid": 1758730481226206200,
        "status": "succeeded"
       }
      ],
      "text/plain": [
       "<IPython.core.display.JSON object>"
      ]
     },
     "execution_count": 3,
     "metadata": {
      "application/json": {
       "expanded": false,
       "root": "root"
      }
     },
     "output_type": "execute_result"
    }
   ],
   "source": [
    "with open(JSON_FILE, 'r') as jf:\n",
    "    json_data = json.load(jf)\n",
    "display.JSON(json_data)"
   ]
  },
  {
   "cell_type": "markdown",
   "id": "single-wings",
   "metadata": {},
   "source": [
    "## Straightforward Approach"
   ]
  },
  {
   "cell_type": "code",
   "execution_count": 17,
   "id": "static-ending",
   "metadata": {},
   "outputs": [],
   "source": [
    "def load_vertx_data(json_file):\n",
    "    with open(json_file, 'r') as jf:\n",
    "        json_data = json.load(jf)\n",
    "    \n",
    "    flattened_data = []\n",
    "    for mte in json_data:\n",
    "        que_uid = mte.get('source_uid', pd.NA)\n",
    "        media_type = mte.get('media_type', pd.NA)\n",
    "        source_path = mte.get('source_path', pd.NA)\n",
    "        status = mte.get('status', pd.NA)\n",
    "        for m in mte['matches']:\n",
    "            artist = m.get('artist', pd.NA)\n",
    "            album = m.get('album', pd.NA)\n",
    "            title = m.get('title', pd.NA)\n",
    "            type_ = m.get('type', pd.NA)\n",
    "            ref_uid = m.get('uid', pd.NA)\n",
    "            imdb_id = m.get('imdb_id', pd.NA)\n",
    "            year = m.get('year', pd.NA)\n",
    "            for s in m['segments']:\n",
    "                duration = s['duration']\n",
    "                que_offset = s['que_offset']\n",
    "                ref_offset = s['ref_offset']\n",
    "                entry = {\n",
    "                    'que_uid': que_uid,\n",
    "                    'media_type': media_type,\n",
    "                    'source_path': source_path,\n",
    "                    'status': status,\n",
    "                    'artist': artist,\n",
    "                    'album': album,\n",
    "                    'title': title,\n",
    "                    'type': type_,\n",
    "                    'ref_uid': ref_uid,\n",
    "                    'imdb_id': imdb_id,\n",
    "                    'year': year,\n",
    "                    'que_offset': que_offset,\n",
    "                    'ref_offset': ref_offset,\n",
    "                    'duration': duration,\n",
    "                }\n",
    "                flattened_data.append(entry)\n",
    "    \n",
    "    return pd.DataFrame(flattened_data)"
   ]
  },
  {
   "cell_type": "code",
   "execution_count": 18,
   "id": "broadband-indianapolis",
   "metadata": {},
   "outputs": [
    {
     "data": {
      "text/html": [
       "<div>\n",
       "<style scoped>\n",
       "    .dataframe tbody tr th:only-of-type {\n",
       "        vertical-align: middle;\n",
       "    }\n",
       "\n",
       "    .dataframe tbody tr th {\n",
       "        vertical-align: top;\n",
       "    }\n",
       "\n",
       "    .dataframe thead th {\n",
       "        text-align: right;\n",
       "    }\n",
       "</style>\n",
       "<table border=\"1\" class=\"dataframe\">\n",
       "  <thead>\n",
       "    <tr style=\"text-align: right;\">\n",
       "      <th></th>\n",
       "      <th>que_uid</th>\n",
       "      <th>media_type</th>\n",
       "      <th>source_path</th>\n",
       "      <th>status</th>\n",
       "      <th>artist</th>\n",
       "      <th>album</th>\n",
       "      <th>title</th>\n",
       "      <th>type</th>\n",
       "      <th>ref_uid</th>\n",
       "      <th>imdb_id</th>\n",
       "      <th>year</th>\n",
       "      <th>que_offset</th>\n",
       "      <th>ref_offset</th>\n",
       "      <th>duration</th>\n",
       "    </tr>\n",
       "  </thead>\n",
       "  <tbody>\n",
       "    <tr>\n",
       "      <th>0</th>\n",
       "      <td>1758730481226206085</td>\n",
       "      <td>audio</td>\n",
       "      <td>sample.mp4</td>\n",
       "      <td>succeeded</td>\n",
       "      <td>Black Eyed Peas; Papa Roach</td>\n",
       "      <td>Elephunk</td>\n",
       "      <td>Anxiety</td>\n",
       "      <td>music</td>\n",
       "      <td>6475547275973858650</td>\n",
       "      <td>&lt;NA&gt;</td>\n",
       "      <td>&lt;NA&gt;</td>\n",
       "      <td>0.0</td>\n",
       "      <td>18.000</td>\n",
       "      <td>24.9375</td>\n",
       "    </tr>\n",
       "    <tr>\n",
       "      <th>1</th>\n",
       "      <td>1758730481226206085</td>\n",
       "      <td>audio</td>\n",
       "      <td>sample.mp4</td>\n",
       "      <td>succeeded</td>\n",
       "      <td>&lt;NA&gt;</td>\n",
       "      <td>&lt;NA&gt;</td>\n",
       "      <td>You Got Served</td>\n",
       "      <td>movie</td>\n",
       "      <td>1566530810344932800</td>\n",
       "      <td>365957</td>\n",
       "      <td>2004</td>\n",
       "      <td>0.0</td>\n",
       "      <td>3500.625</td>\n",
       "      <td>24.9375</td>\n",
       "    </tr>\n",
       "    <tr>\n",
       "      <th>2</th>\n",
       "      <td>1758730481226206085</td>\n",
       "      <td>video</td>\n",
       "      <td>sample.mp4</td>\n",
       "      <td>succeeded</td>\n",
       "      <td>&lt;NA&gt;</td>\n",
       "      <td>&lt;NA&gt;</td>\n",
       "      <td>Troy</td>\n",
       "      <td>movie</td>\n",
       "      <td>1342729426672482861</td>\n",
       "      <td>332452</td>\n",
       "      <td>2004</td>\n",
       "      <td>0.0</td>\n",
       "      <td>8608.500</td>\n",
       "      <td>21.0000</td>\n",
       "    </tr>\n",
       "  </tbody>\n",
       "</table>\n",
       "</div>"
      ],
      "text/plain": [
       "               que_uid media_type source_path     status  \\\n",
       "0  1758730481226206085      audio  sample.mp4  succeeded   \n",
       "1  1758730481226206085      audio  sample.mp4  succeeded   \n",
       "2  1758730481226206085      video  sample.mp4  succeeded   \n",
       "\n",
       "                        artist     album           title   type  \\\n",
       "0  Black Eyed Peas; Papa Roach  Elephunk         Anxiety  music   \n",
       "1                         <NA>      <NA>  You Got Served  movie   \n",
       "2                         <NA>      <NA>            Troy  movie   \n",
       "\n",
       "               ref_uid imdb_id  year  que_offset  ref_offset  duration  \n",
       "0  6475547275973858650    <NA>  <NA>         0.0      18.000   24.9375  \n",
       "1  1566530810344932800  365957  2004         0.0    3500.625   24.9375  \n",
       "2  1342729426672482861  332452  2004         0.0    8608.500   21.0000  "
      ]
     },
     "execution_count": 18,
     "metadata": {},
     "output_type": "execute_result"
    }
   ],
   "source": [
    "df = load_vertx_data(JSON_FILE)\n",
    "df.head(5)"
   ]
  },
  {
   "cell_type": "markdown",
   "id": "independent-manhattan",
   "metadata": {},
   "source": [
    "## Flattening JSON using Pandas"
   ]
  },
  {
   "cell_type": "code",
   "execution_count": 19,
   "id": "painful-accordance",
   "metadata": {},
   "outputs": [],
   "source": [
    "from pandas import json_normalize"
   ]
  },
  {
   "cell_type": "code",
   "execution_count": 20,
   "id": "military-dividend",
   "metadata": {},
   "outputs": [],
   "source": [
    "def load_vertx_data_using_json_normalize(json_file):\n",
    "    with open(json_file, 'r') as jf:\n",
    "        json_data = json.load(jf)\n",
    "    df = json_normalize(\n",
    "        json_data,\n",
    "        record_path=['matches', 'segments'],\n",
    "        meta=['source_uid', 'media_type', 'source_path', 'status', \n",
    "              ['matches', 'uid'], \n",
    "              ['matches', 'artist'],\n",
    "              ['matches', 'album'],\n",
    "              ['matches', 'title'],\n",
    "              ['matches', 'type'],\n",
    "              ['matches', 'imdb_id'],\n",
    "              ['matches', 'year'],\n",
    "        ],\n",
    "        errors='ignore'\n",
    "    )\n",
    "    df = df.rename(\n",
    "        columns={\n",
    "            'source_uid': 'que_uid', \n",
    "            'matches.uid': 'ref_uid',\n",
    "            'matches.artist': 'artist',\n",
    "            'matches.album': 'album',\n",
    "            'matches.title': 'title',\n",
    "            'matches.type': 'type',\n",
    "            'matches.imdb_id': 'imdb_id',\n",
    "            'matches.year': 'year',\n",
    "        },\n",
    "    )\n",
    "    \n",
    "    return df"
   ]
  },
  {
   "cell_type": "code",
   "execution_count": 21,
   "id": "balanced-group",
   "metadata": {},
   "outputs": [
    {
     "data": {
      "text/html": [
       "<div>\n",
       "<style scoped>\n",
       "    .dataframe tbody tr th:only-of-type {\n",
       "        vertical-align: middle;\n",
       "    }\n",
       "\n",
       "    .dataframe tbody tr th {\n",
       "        vertical-align: top;\n",
       "    }\n",
       "\n",
       "    .dataframe thead th {\n",
       "        text-align: right;\n",
       "    }\n",
       "</style>\n",
       "<table border=\"1\" class=\"dataframe\">\n",
       "  <thead>\n",
       "    <tr style=\"text-align: right;\">\n",
       "      <th></th>\n",
       "      <th>duration</th>\n",
       "      <th>que_offset</th>\n",
       "      <th>ref_offset</th>\n",
       "      <th>que_uid</th>\n",
       "      <th>media_type</th>\n",
       "      <th>source_path</th>\n",
       "      <th>status</th>\n",
       "      <th>ref_uid</th>\n",
       "      <th>artist</th>\n",
       "      <th>album</th>\n",
       "      <th>title</th>\n",
       "      <th>type</th>\n",
       "      <th>imdb_id</th>\n",
       "      <th>year</th>\n",
       "    </tr>\n",
       "  </thead>\n",
       "  <tbody>\n",
       "    <tr>\n",
       "      <th>0</th>\n",
       "      <td>24.9375</td>\n",
       "      <td>0.0</td>\n",
       "      <td>18.000</td>\n",
       "      <td>1758730481226206085</td>\n",
       "      <td>audio</td>\n",
       "      <td>sample.mp4</td>\n",
       "      <td>succeeded</td>\n",
       "      <td>6475547275973858650</td>\n",
       "      <td>Black Eyed Peas; Papa Roach</td>\n",
       "      <td>Elephunk</td>\n",
       "      <td>Anxiety</td>\n",
       "      <td>music</td>\n",
       "      <td>NaN</td>\n",
       "      <td>NaN</td>\n",
       "    </tr>\n",
       "    <tr>\n",
       "      <th>1</th>\n",
       "      <td>24.9375</td>\n",
       "      <td>0.0</td>\n",
       "      <td>3500.625</td>\n",
       "      <td>1758730481226206085</td>\n",
       "      <td>audio</td>\n",
       "      <td>sample.mp4</td>\n",
       "      <td>succeeded</td>\n",
       "      <td>1566530810344932800</td>\n",
       "      <td>NaN</td>\n",
       "      <td>NaN</td>\n",
       "      <td>You Got Served</td>\n",
       "      <td>movie</td>\n",
       "      <td>365957</td>\n",
       "      <td>2004</td>\n",
       "    </tr>\n",
       "    <tr>\n",
       "      <th>2</th>\n",
       "      <td>21.0000</td>\n",
       "      <td>0.0</td>\n",
       "      <td>8608.500</td>\n",
       "      <td>1758730481226206085</td>\n",
       "      <td>video</td>\n",
       "      <td>sample.mp4</td>\n",
       "      <td>succeeded</td>\n",
       "      <td>1342729426672482861</td>\n",
       "      <td>NaN</td>\n",
       "      <td>NaN</td>\n",
       "      <td>Troy</td>\n",
       "      <td>movie</td>\n",
       "      <td>332452</td>\n",
       "      <td>2004</td>\n",
       "    </tr>\n",
       "  </tbody>\n",
       "</table>\n",
       "</div>"
      ],
      "text/plain": [
       "   duration  que_offset  ref_offset              que_uid media_type  \\\n",
       "0   24.9375         0.0      18.000  1758730481226206085      audio   \n",
       "1   24.9375         0.0    3500.625  1758730481226206085      audio   \n",
       "2   21.0000         0.0    8608.500  1758730481226206085      video   \n",
       "\n",
       "  source_path     status              ref_uid                       artist  \\\n",
       "0  sample.mp4  succeeded  6475547275973858650  Black Eyed Peas; Papa Roach   \n",
       "1  sample.mp4  succeeded  1566530810344932800                          NaN   \n",
       "2  sample.mp4  succeeded  1342729426672482861                          NaN   \n",
       "\n",
       "      album           title   type imdb_id  year  \n",
       "0  Elephunk         Anxiety  music     NaN   NaN  \n",
       "1       NaN  You Got Served  movie  365957  2004  \n",
       "2       NaN            Troy  movie  332452  2004  "
      ]
     },
     "execution_count": 21,
     "metadata": {},
     "output_type": "execute_result"
    }
   ],
   "source": [
    "new_df =  load_vertx_data_using_json_normalize(JSON_FILE)\n",
    "new_df.head()"
   ]
  },
  {
   "cell_type": "code",
   "execution_count": null,
   "id": "broken-translator",
   "metadata": {},
   "outputs": [],
   "source": []
  }
 ],
 "metadata": {
  "kernelspec": {
   "display_name": "Python 3",
   "language": "python",
   "name": "python3"
  },
  "language_info": {
   "codemirror_mode": {
    "name": "ipython",
    "version": 3
   },
   "file_extension": ".py",
   "mimetype": "text/x-python",
   "name": "python",
   "nbconvert_exporter": "python",
   "pygments_lexer": "ipython3",
   "version": "3.9.2"
  }
 },
 "nbformat": 4,
 "nbformat_minor": 5
}
